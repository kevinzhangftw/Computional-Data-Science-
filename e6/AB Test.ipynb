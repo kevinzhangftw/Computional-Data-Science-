{
 "cells": [
  {
   "cell_type": "code",
   "execution_count": 1,
   "metadata": {
    "collapsed": true
   },
   "outputs": [],
   "source": [
    "import pandas as pd\n",
    "import numpy as np\n",
    "import sys\n",
    "from scipy import stats\n",
    "\n",
    "\n",
    "searches = pd.read_json(\"searches.json\", orient='records', lines=True)"
   ]
  },
  {
   "cell_type": "code",
   "execution_count": 2,
   "metadata": {},
   "outputs": [
    {
     "name": "stdout",
     "output_type": "stream",
     "text": [
      "0\n"
     ]
    },
    {
     "data": {
      "text/plain": [
       "False"
      ]
     },
     "execution_count": 2,
     "metadata": {},
     "output_type": "execute_result"
    }
   ],
   "source": [
    "def getOdduid(uid):\n",
    "    if (uid % 2 == 1):\n",
    "        return True\n",
    "    else:\n",
    "        return False\n",
    "\n",
    "def getEvenuid(uid):\n",
    "    if (uid % 2 == 0):\n",
    "        return True\n",
    "    else:\n",
    "        return False\n",
    "    \n",
    "def getnonzeros(search_count):\n",
    "    if search_count != 0:\n",
    "        return True\n",
    "    else:\n",
    "        return False\n",
    "    \n",
    "\n",
    "# searches['uid'].iloc[3]    \n",
    "# getOdduid(searches['uid'].iloc[3])\n",
    "# getEvenuid(searches['uid'].iloc[3])\n",
    "# print(searches['search_count'].iloc[2])\n",
    "# getnonzeros(searches['search_count'].iloc[2])"
   ]
  },
  {
   "cell_type": "code",
   "execution_count": 3,
   "metadata": {
    "collapsed": true
   },
   "outputs": [],
   "source": [
    "newoption = searches[searches['uid'].apply(getOdduid)]\n",
    "oldoption = searches[searches['uid'].apply(getEvenuid)]\n",
    "newoptioninstr = newoption[newoption['is_instructor']]\n",
    "oldoptioninstr = oldoption[oldoption['is_instructor']]"
   ]
  },
  {
   "cell_type": "code",
   "execution_count": 4,
   "metadata": {
    "collapsed": true
   },
   "outputs": [],
   "source": [
    "utestMoreSearchs = stats.mannwhitneyu(newoption['search_count'], oldoption['search_count'])\n",
    "# utestMoreSearchs.pvalue\n",
    "utestMoreInstrSearchs = stats.mannwhitneyu(newoptioninstr['search_count'], oldoptioninstr['search_count'])\n",
    "# utestMoreInstrSearchs.pvalue"
   ]
  },
  {
   "cell_type": "code",
   "execution_count": 5,
   "metadata": {
    "collapsed": true
   },
   "outputs": [],
   "source": [
    "newoptionNo0s= newoption[newoption['search_count'].apply(getnonzeros)]\n",
    "oldoptionNo0s= oldoption[oldoption['search_count'].apply(getnonzeros)]\n"
   ]
  },
  {
   "cell_type": "code",
   "execution_count": 22,
   "metadata": {},
   "outputs": [
    {
     "name": "stdout",
     "output_type": "stream",
     "text": [
      "0.16762970945\n",
      "[[98, 111], [250, 222]]\n"
     ]
    }
   ],
   "source": [
    "contingency = [[len(newoptionNo0s), len(oldoptionNo0s)], \n",
    "               [len(newoption) - len(newoptionNo0s), len(oldoption) - len(oldoptionNo0s)]]\n",
    "chi2, p, dof, expected = stats.chi2_contingency(contingency)\n",
    "print(p)\n",
    "print(contingency)"
   ]
  },
  {
   "cell_type": "code",
   "execution_count": 17,
   "metadata": {},
   "outputs": [],
   "source": [
    "newinstroptionNo0s= newoptioninstr[newoptioninstr['search_count'].apply(getnonzeros)]\n",
    "oldinstroptionNo0s= oldoptioninstr[oldoptioninstr['search_count'].apply(getnonzeros)]"
   ]
  },
  {
   "cell_type": "code",
   "execution_count": 23,
   "metadata": {},
   "outputs": [
    {
     "name": "stdout",
     "output_type": "stream",
     "text": [
      "0.0280362990568\n",
      "[[ 41.5  41.5]\n",
      " [ 73.5  73.5]]\n"
     ]
    }
   ],
   "source": [
    "contingencyinstr = [[len(newinstroptionNo0s), len(oldinstroptionNo0s)], \n",
    "               [len(newoptioninstr) - len(newinstroptionNo0s), len(newoptioninstr) - len(oldinstroptionNo0s)]]\n",
    "chi2i, pi, dofi, expectedi = stats.chi2_contingency(contingencyinstr)\n",
    "print(pi)\n",
    "print(expectedi)\n"
   ]
  },
  {
   "cell_type": "code",
   "execution_count": null,
   "metadata": {
    "collapsed": true
   },
   "outputs": [],
   "source": []
  }
 ],
 "metadata": {
  "kernelspec": {
   "display_name": "Python 3",
   "language": "python",
   "name": "python3"
  },
  "language_info": {
   "codemirror_mode": {
    "name": "ipython",
    "version": 3
   },
   "file_extension": ".py",
   "mimetype": "text/x-python",
   "name": "python",
   "nbconvert_exporter": "python",
   "pygments_lexer": "ipython3",
   "version": "3.6.0"
  }
 },
 "nbformat": 4,
 "nbformat_minor": 2
}

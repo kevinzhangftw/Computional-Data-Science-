{
 "cells": [
  {
   "cell_type": "code",
   "execution_count": 25,
   "metadata": {
    "collapsed": true
   },
   "outputs": [],
   "source": [
    "from scipy import stats\n",
    "import pandas as pd\n",
    "import numpy as np\n",
    "from statsmodels.stats.multicomp import pairwise_tukeyhsd\n",
    "import matplotlib.pyplot as plt\n",
    "\n",
    "data = pd.read_csv('data.csv')\n",
    "qs1 = data['qs1']\n",
    "qs2 = data['qs2']\n",
    "qs3 = data['qs3']\n",
    "qs4 = data['qs4']\n",
    "qs5 = data['qs5']\n",
    "merge1 = data['merge1']\n",
    "partition_sort = data['partition_sort']"
   ]
  },
  {
   "cell_type": "code",
   "execution_count": 10,
   "metadata": {},
   "outputs": [
    {
     "name": "stdout",
     "output_type": "stream",
     "text": [
      "F_onewayResult(statistic=55.151456799206088, pvalue=2.7874763598671369e-67)\n",
      "2.78747635987e-67\n"
     ]
    }
   ],
   "source": [
    "anova = stats.f_oneway(qs1, qs2, qs3, qs4, qs5, merge1, partition_sort)\n",
    "print(anova)\n",
    "print(anova.pvalue)"
   ]
  },
  {
   "cell_type": "code",
   "execution_count": 12,
   "metadata": {},
   "outputs": [],
   "source": [
    "dataMelt = pd.melt(data)\n",
    "posthoc = pairwise_tukeyhsd(\n",
    "    dataMelt['value'], dataMelt['variable'],\n",
    "    alpha=0.05)"
   ]
  },
  {
   "cell_type": "code",
   "execution_count": 13,
   "metadata": {},
   "outputs": [
    {
     "name": "stdout",
     "output_type": "stream",
     "text": [
      "      Multiple Comparison of Means - Tukey HSD,FWER=0.05     \n",
      "=============================================================\n",
      "    group1         group2     meandiff  lower   upper  reject\n",
      "-------------------------------------------------------------\n",
      "    merge1     partition_sort -0.0021  -0.0027 -0.0015  True \n",
      "    merge1          qs1       -0.0019  -0.0025 -0.0013  True \n",
      "    merge1          qs2        0.0005  -0.0001  0.0011 False \n",
      "    merge1          qs3        0.0003  -0.0003  0.0009 False \n",
      "    merge1          qs4       -0.0007  -0.0013 -0.0001  True \n",
      "    merge1          qs5       -0.0008  -0.0013 -0.0002  True \n",
      "partition_sort      qs1        0.0002  -0.0004  0.0007 False \n",
      "partition_sort      qs2        0.0026   0.002   0.0031  True \n",
      "partition_sort      qs3        0.0024   0.0018  0.003   True \n",
      "partition_sort      qs4        0.0014   0.0008  0.0019  True \n",
      "partition_sort      qs5        0.0013   0.0008  0.0019  True \n",
      "     qs1            qs2        0.0024   0.0018  0.003   True \n",
      "     qs1            qs3        0.0022   0.0016  0.0028  True \n",
      "     qs1            qs4        0.0012   0.0006  0.0018  True \n",
      "     qs1            qs5        0.0012   0.0006  0.0017  True \n",
      "     qs2            qs3       -0.0002  -0.0008  0.0004 False \n",
      "     qs2            qs4       -0.0012  -0.0018 -0.0006  True \n",
      "     qs2            qs5       -0.0012  -0.0018 -0.0007  True \n",
      "     qs3            qs4        -0.001  -0.0016 -0.0004  True \n",
      "     qs3            qs5       -0.0011  -0.0016 -0.0005  True \n",
      "     qs4            qs5         -0.0   -0.0006  0.0005 False \n",
      "-------------------------------------------------------------\n"
     ]
    }
   ],
   "source": [
    "print(posthoc)"
   ]
  },
  {
   "cell_type": "code",
   "execution_count": 32,
   "metadata": {},
   "outputs": [
    {
     "data": {
      "image/png": "[encoded data removed]",
      "text/plain": [
       "<matplotlib.figure.Figure at 0x120929a20>"
      ]
     },
     "metadata": {},
     "output_type": "display_data"
    }
   ],
   "source": [
    "fig = posthoc.plot_simultaneous()\n",
    "fig.set_size_inches((5, 2))\n",
    "plt.show()\n"
   ]
  },
  {
   "cell_type": "code",
   "execution_count": null,
   "metadata": {
    "collapsed": true
   },
   "outputs": [],
   "source": []
  }
 ],
 "metadata": {
  "kernelspec": {
   "display_name": "Python 3",
   "language": "python",
   "name": "python3"
  },
  "language_info": {
   "codemirror_mode": {
    "name": "ipython",
    "version": 3
   },
   "file_extension": ".py",
   "mimetype": "text/x-python",
   "name": "python",
   "nbconvert_exporter": "python",
   "pygments_lexer": "ipython3",
   "version": "3.6.0"
  }
 },
 "nbformat": 4,
 "nbformat_minor": 2
}

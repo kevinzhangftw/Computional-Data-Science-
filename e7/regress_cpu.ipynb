{
 "cells": [
  {
   "cell_type": "code",
   "execution_count": 1,
   "metadata": {},
   "outputs": [],
   "source": [
    "import numpy as np\n",
    "import pandas as pd\n",
    "import matplotlib.pyplot as plt\n",
    "from sklearn.linear_model import LinearRegression\n",
    "# from pykalman import KalmanFilter\n",
    "\n",
    "columns = ['temperature', 'cpu_percent', 'fan_rpm', 'sys_load_1']\n",
    "training_data_file = \"sysinfo-train.csv\"\n",
    "testing_data_file = \"sysinfo-test.csv\"\n",
    "\n",
    "def get_data(filename):\n",
    "    \"\"\"\n",
    "    Read the given CSV file. Return (sysinfo DataFrame, array of X (input) values, array of y (known output) values).\n",
    "    \"\"\"\n",
    "    sysinfo = pd.read_csv(filename, parse_dates=[0])\n",
    "    sysinfo['next_temp'] = sysinfo['temperature'].shift(-1)\n",
    "    sysinfo['next_temp'].iloc[-1]= sysinfo['temperature'].iloc[-1]\n",
    "    return sysinfo, sysinfo[columns].values, sysinfo['next_temp'].values\n",
    "\n",
    "def get_trained_coefficients():\n",
    "    \"\"\"\n",
    "    Create and train a model based on the training_data_file data.\n",
    "\n",
    "    Return the model, and the list of coefficients for the 'columns' variables in the regression.\n",
    "    \"\"\"\n",
    "    _, X_train, y_train = get_data(training_data_file)\n",
    "\n",
    "    model = LinearRegression(fit_intercept=False)\n",
    "    model.fit(X_train, y_train)\n",
    "    coefficients = model.coef_\n",
    "    return model, coefficients\n",
    "\n",
    "def output_regression(coefficients):\n",
    "    \"\"\"\n",
    "    Print a human-readable summary of the regression results.\n",
    "    \"\"\"\n",
    "    regress = ' + '.join('%.3g*%s' % (coef, col) for col, coef in zip(columns, coefficients))\n",
    "    print('next_temp = ' + regress)\n",
    "\n",
    "def plot_errors(model):\n",
    "    _, X_test, y_test = get_data(testing_data_file)\n",
    "    plt.hist(model.predict(X_test) - y_test, bins=100)\n",
    "    plt.savefig('test_errors.png')\n"
   ]
  },
  {
   "cell_type": "code",
   "execution_count": 3,
   "metadata": {},
   "outputs": [
    {
     "name": "stdout",
     "output_type": "stream",
     "text": [
      "[ 0.41692428  0.09242426  0.03011102  0.49127827]\n"
     ]
    },
    {
     "name": "stderr",
     "output_type": "stream",
     "text": [
      "/Users/kai/anaconda/lib/python3.6/site-packages/pandas/core/indexing.py:141: SettingWithCopyWarning: \n",
      "A value is trying to be set on a copy of a slice from a DataFrame\n",
      "\n",
      "See the caveats in the documentation: http://pandas.pydata.org/pandas-docs/stable/indexing.html#indexing-view-versus-copy\n",
      "  self._setitem_with_indexer(indexer, value)\n"
     ]
    }
   ],
   "source": [
    "model, coefficients = get_trained_coefficients()\n",
    "print(coefficients)"
   ]
  },
  {
   "cell_type": "code",
   "execution_count": 7,
   "metadata": {},
   "outputs": [
    {
     "name": "stderr",
     "output_type": "stream",
     "text": [
      "/Users/kai/anaconda/lib/python3.6/site-packages/pandas/core/indexing.py:141: SettingWithCopyWarning: \n",
      "A value is trying to be set on a copy of a slice from a DataFrame\n",
      "\n",
      "See the caveats in the documentation: http://pandas.pydata.org/pandas-docs/stable/indexing.html#indexing-view-versus-copy\n",
      "  self._setitem_with_indexer(indexer, value)\n"
     ]
    }
   ],
   "source": [
    "sysinfo, X_test, _ = get_data(testing_data_file)\n"
   ]
  },
  {
   "cell_type": "code",
   "execution_count": 12,
   "metadata": {},
   "outputs": [
    {
     "data": {
      "text/plain": [
       "4"
      ]
     },
     "execution_count": 12,
     "metadata": {},
     "output_type": "execute_result"
    }
   ],
   "source": [
    "X_test.shape[-1]"
   ]
  },
  {
   "cell_type": "code",
   "execution_count": null,
   "metadata": {
    "collapsed": true
   },
   "outputs": [],
   "source": []
  }
 ],
 "metadata": {
  "kernelspec": {
   "display_name": "Python 3",
   "language": "python",
   "name": "python3"
  },
  "language_info": {
   "codemirror_mode": {
    "name": "ipython",
    "version": 3
   },
   "file_extension": ".py",
   "mimetype": "text/x-python",
   "name": "python",
   "nbconvert_exporter": "python",
   "pygments_lexer": "ipython3",
   "version": "3.6.0"
  }
 },
 "nbformat": 4,
 "nbformat_minor": 2
}

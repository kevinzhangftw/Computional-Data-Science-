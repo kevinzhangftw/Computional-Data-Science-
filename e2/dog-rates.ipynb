{
 "cells": [
  {
   "cell_type": "code",
   "execution_count": 2,
   "metadata": {
    "collapsed": true
   },
   "outputs": [],
   "source": [
    "import pandas as pd\n",
    "import matplotlib.pyplot as plt\n",
    "from scipy import stats\n",
    "dogTweets = pd.read_csv('dog_rates_tweets.csv', parse_dates=True).set_index(keys=['id'])"
   ]
  },
  {
   "cell_type": "code",
   "execution_count": 3,
   "metadata": {
    "collapsed": true
   },
   "outputs": [],
   "source": [
    "dogTweetsText = dogTweets['text']\n",
    "pattern = r'(\\d+(\\.\\d+)?)\\/10'\n",
    "dogTweetsRatings = dogTweetsText.str.extract(pattern, expand=False)\n",
    "dogBool = dogTweetsRatings[0].notnull()"
   ]
  },
  {
   "cell_type": "code",
   "execution_count": 4,
   "metadata": {
    "collapsed": true
   },
   "outputs": [],
   "source": [
    "dogTweets['thereisrating'] = dogBool\n",
    "dogTweets['ratings'] = dogTweetsRatings[0]\n",
    "dogTweets = dogTweets.reset_index()\n",
    "filteredDogTweets = dogTweets[dogTweets['thereisrating'] == True]\n",
    "ratingsint = pd.to_numeric(filteredDogTweets['ratings'])"
   ]
  },
  {
   "cell_type": "code",
   "execution_count": 5,
   "metadata": {},
   "outputs": [
    {
     "name": "stderr",
     "output_type": "stream",
     "text": [
      "/Users/kai/anaconda/lib/python3.6/site-packages/ipykernel/__main__.py:1: SettingWithCopyWarning: \n",
      "A value is trying to be set on a copy of a slice from a DataFrame.\n",
      "Try using .loc[row_indexer,col_indexer] = value instead\n",
      "\n",
      "See the caveats in the documentation: http://pandas.pydata.org/pandas-docs/stable/indexing.html#indexing-view-versus-copy\n",
      "  if __name__ == '__main__':\n"
     ]
    }
   ],
   "source": [
    "filteredDogTweets['ratings']= ratingsint\n",
    "filteredBigDogs = filteredDogTweets[filteredDogTweets['ratings'] < 20]"
   ]
  },
  {
   "cell_type": "code",
   "execution_count": 6,
   "metadata": {},
   "outputs": [
    {
     "name": "stderr",
     "output_type": "stream",
     "text": [
      "/Users/kai/anaconda/lib/python3.6/site-packages/ipykernel/__main__.py:1: SettingWithCopyWarning: \n",
      "A value is trying to be set on a copy of a slice from a DataFrame.\n",
      "Try using .loc[row_indexer,col_indexer] = value instead\n",
      "\n",
      "See the caveats in the documentation: http://pandas.pydata.org/pandas-docs/stable/indexing.html#indexing-view-versus-copy\n",
      "  if __name__ == '__main__':\n"
     ]
    }
   ],
   "source": [
    "filteredBigDogs['created_at'] = pd.to_datetime(filteredBigDogs['created_at'])"
   ]
  },
  {
   "cell_type": "code",
   "execution_count": 7,
   "metadata": {},
   "outputs": [
    {
     "data": {
      "image/png": "[encoded data removed]",
      "text/plain": [
       "<matplotlib.figure.Figure at 0x116b4df98>"
      ]
     },
     "metadata": {},
     "output_type": "display_data"
    }
   ],
   "source": [
    "plt.title('Twitter Ratings over time')\n",
    "plt.xlabel('date')\n",
    "plt.ylabel('ratings')\n",
    "plt.plot(filteredBigDogs['created_at'].values, filteredBigDogs['ratings'].values, 'bo')\n",
    "plt.show()"
   ]
  },
  {
   "cell_type": "code",
   "execution_count": 8,
   "metadata": {
    "collapsed": true
   },
   "outputs": [],
   "source": [
    "def to_timestamp(datetime):\n",
    "    return datetime.timestamp()\n",
    "    "
   ]
  },
  {
   "cell_type": "code",
   "execution_count": 9,
   "metadata": {},
   "outputs": [
    {
     "name": "stderr",
     "output_type": "stream",
     "text": [
      "/Users/kai/anaconda/lib/python3.6/site-packages/ipykernel/__main__.py:1: SettingWithCopyWarning: \n",
      "A value is trying to be set on a copy of a slice from a DataFrame.\n",
      "Try using .loc[row_indexer,col_indexer] = value instead\n",
      "\n",
      "See the caveats in the documentation: http://pandas.pydata.org/pandas-docs/stable/indexing.html#indexing-view-versus-copy\n",
      "  if __name__ == '__main__':\n"
     ]
    }
   ],
   "source": [
    "filteredBigDogs['timestamp'] = filteredBigDogs['created_at'].apply(to_timestamp)"
   ]
  },
  {
   "cell_type": "code",
   "execution_count": 10,
   "metadata": {
    "collapsed": true
   },
   "outputs": [],
   "source": [
    "fit = stats.linregress(filteredBigDogs['timestamp'], filteredBigDogs['ratings'])"
   ]
  },
  {
   "cell_type": "code",
   "execution_count": 11,
   "metadata": {},
   "outputs": [
    {
     "data": {
      "text/plain": [
       "0       1.494549e+09\n",
       "8       1.494400e+09\n",
       "9       1.494322e+09\n",
       "20      1.494230e+09\n",
       "30      1.494140e+09\n",
       "33      1.494134e+09\n",
       "35      1.494120e+09\n",
       "42      1.494035e+09\n",
       "49      1.494025e+09\n",
       "52      1.493966e+09\n",
       "54      1.493949e+09\n",
       "57      1.493944e+09\n",
       "58      1.493942e+09\n",
       "63      1.493865e+09\n",
       "77      1.493628e+09\n",
       "79      1.493624e+09\n",
       "81      1.493536e+09\n",
       "96      1.493363e+09\n",
       "108     1.493279e+09\n",
       "117     1.493236e+09\n",
       "119     1.493200e+09\n",
       "121     1.493192e+09\n",
       "128     1.493090e+09\n",
       "138     1.493072e+09\n",
       "143     1.493025e+09\n",
       "145     1.493014e+09\n",
       "152     1.492913e+09\n",
       "155     1.492911e+09\n",
       "159     1.492903e+09\n",
       "169     1.492818e+09\n",
       "            ...     \n",
       "3156    1.455947e+09\n",
       "3157    1.455935e+09\n",
       "3161    1.455880e+09\n",
       "3162    1.455877e+09\n",
       "3163    1.455867e+09\n",
       "3165    1.455797e+09\n",
       "3166    1.455793e+09\n",
       "3167    1.455791e+09\n",
       "3169    1.455772e+09\n",
       "3171    1.455764e+09\n",
       "3172    1.455757e+09\n",
       "3174    1.455710e+09\n",
       "3175    1.455706e+09\n",
       "3176    1.455704e+09\n",
       "3177    1.455703e+09\n",
       "3181    1.455683e+09\n",
       "3183    1.455625e+09\n",
       "3184    1.455622e+09\n",
       "3185    1.455619e+09\n",
       "3186    1.455617e+09\n",
       "3187    1.455607e+09\n",
       "3188    1.455595e+09\n",
       "3190    1.455539e+09\n",
       "3191    1.455537e+09\n",
       "3192    1.455536e+09\n",
       "3195    1.455533e+09\n",
       "3197    1.455527e+09\n",
       "3198    1.455516e+09\n",
       "3199    1.455507e+09\n",
       "3201    1.455496e+09\n",
       "Name: timestamp, dtype: float64"
      ]
     },
     "execution_count": 11,
     "metadata": {},
     "output_type": "execute_result"
    }
   ],
   "source": [
    "filteredBigDogs['timestamp']"
   ]
  },
  {
   "cell_type": "code",
   "execution_count": 12,
   "metadata": {},
   "outputs": [
    {
     "data": {
      "image/png": "[encoded data removed]",
      "text/plain": [
       "<matplotlib.figure.Figure at 0x1171b9320>"
      ]
     },
     "metadata": {},
     "output_type": "display_data"
    }
   ],
   "source": [
    "plt.title('Twitter Ratings over time')\n",
    "plt.xlabel('date')\n",
    "plt.ylabel('ratings')\n",
    "plt.xticks(rotation=25)\n",
    "plt.plot(filteredBigDogs['created_at'].values, filteredBigDogs['ratings'].values, 'bo', alpha=0.5)\n",
    "plt.plot(filteredBigDogs['created_at'].values, filteredBigDogs['timestamp']*fit.slope + fit.intercept, 'r-', linewidth=3)\n",
    "plt.show()"
   ]
  },
  {
   "cell_type": "code",
   "execution_count": null,
   "metadata": {
    "collapsed": true
   },
   "outputs": [],
   "source": []
  }
 ],
 "metadata": {
  "kernelspec": {
   "display_name": "Python 3",
   "language": "python",
   "name": "python3"
  },
  "language_info": {
   "codemirror_mode": {
    "name": "ipython",
    "version": 3
   },
   "file_extension": ".py",
   "mimetype": "text/x-python",
   "name": "python",
   "nbconvert_exporter": "python",
   "pygments_lexer": "ipython3",
   "version": "3.6.0"
  }
 },
 "nbformat": 4,
 "nbformat_minor": 2
}

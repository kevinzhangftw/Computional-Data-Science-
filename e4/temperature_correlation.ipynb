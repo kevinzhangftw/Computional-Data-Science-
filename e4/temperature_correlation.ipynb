{
 "cells": [
  {
   "cell_type": "code",
   "execution_count": 12,
   "metadata": {},
   "outputs": [],
   "source": [
    "import pandas as pd\n",
    "import numpy as np\n",
    "import sys\n",
    "import gzip\n",
    "from math import radians, cos, sin, asin, sqrt\n",
    "import matplotlib.pyplot as plt\n",
    "\n",
    "stations_filename = 'stations.json.gz'\n",
    "station_fh = gzip.open(stations_filename, 'rt', encoding='utf-8')\n",
    "stations = pd.read_json(station_fh, lines=True)\n",
    "\n",
    "city_data = pd.read_csv('city_data.csv')\n"
   ]
  },
  {
   "cell_type": "code",
   "execution_count": 13,
   "metadata": {},
   "outputs": [],
   "source": [
    "stations['avg_tmax/10']=stations['avg_tmax']/10\n",
    "city_data['area/km']=(city_data['area']/1000000).round(2)\n",
    "city_data['density']=city_data['population']/city_data['area/km']\n",
    "cityNnull = city_data[city_data.density.notnull()].reset_index()"
   ]
  },
  {
   "cell_type": "code",
   "execution_count": 14,
   "metadata": {},
   "outputs": [],
   "source": [
    "stnLoc= pd.DataFrame()\n",
    "stnLoc['lat'] = stations['latitude']\n",
    "stnLoc['lon'] = stations['longitude']\n",
    "cityLoc = pd.DataFrame()\n",
    "cityLoc['lat'] = cityNnull['latitude']\n",
    "cityLoc['lon'] = cityNnull['longitude']"
   ]
  },
  {
   "cell_type": "code",
   "execution_count": 74,
   "metadata": {},
   "outputs": [],
   "source": [
    "# adapted from stackoverflow https://stackoverflow.com/questions/4913349/haversine-formula-in-python-bearing-and-distance-between-two-gps-points\n",
    "def distanceEachPt(LatLon1, LatLon2):\n",
    "    lat1 = LatLon1[0]\n",
    "    lon1 = LatLon1[1]\n",
    "    lat2 = LatLon2[0]\n",
    "    lon2 = LatLon2[1]\n",
    "    # convert decimal degrees to radians\n",
    "    lon1, lat1, lon2, lat2 = map(radians, [lon1, lat1, lon2, lat2])\n",
    "    # haversine formula\n",
    "    dlon = lon2 - lon1\n",
    "    dlat = lat2 - lat1\n",
    "    a = sin(dlat/2)**2 + cos(lat1) * cos(lat2) * sin(dlon/2)**2\n",
    "    c = 2 * asin(sqrt(a))\n",
    "    r = 6371 # Radius of earth in kilometers. Use 3956 for miles\n",
    "    return c * r\n",
    "\n",
    "def distance(city, stations):\n",
    "    LatLon1 = city.values\n",
    "    s = stations.values\n",
    "    oneCity = np.apply_along_axis(distanceEachPt, 1, s, LatLon1)\n",
    "    return oneCity\n",
    "\n"
   ]
  },
  {
   "cell_type": "code",
   "execution_count": 75,
   "metadata": {},
   "outputs": [
    {
     "data": {
      "text/plain": [
       "array([  783.37639941,   128.45948717,   465.67759123, ...,  3322.46422488,\n",
       "        3339.4175117 ,  2452.81222187])"
      ]
     },
     "execution_count": 75,
     "metadata": {},
     "output_type": "execute_result"
    }
   ],
   "source": [
    "# s = stnLoc.values\n",
    "# LatLon1 = cityLoc.iloc[0].values\n",
    "# x = np.apply_along_axis(distanceEachPt, 1, s, LatLon1)\n",
    "# type(x)\n",
    "# distance(cityLoc.iloc[0], stnLoc)"
   ]
  },
  {
   "cell_type": "code",
   "execution_count": 76,
   "metadata": {
    "collapsed": true
   },
   "outputs": [],
   "source": [
    "def best_tmax(city, stns):\n",
    "    aCity = distance(city, stns)\n",
    "    bestindex = np.argmin(aCity)\n",
    "    best = stations['avg_tmax/10'].iloc[bestindex]\n",
    "    return best\n",
    "    "
   ]
  },
  {
   "cell_type": "code",
   "execution_count": 77,
   "metadata": {},
   "outputs": [
    {
     "data": {
      "text/plain": [
       "12.152328767123288"
      ]
     },
     "execution_count": 77,
     "metadata": {},
     "output_type": "execute_result"
    }
   ],
   "source": [
    "# best_tmax(cityLoc.iloc[0], stnLoc)"
   ]
  },
  {
   "cell_type": "code",
   "execution_count": 78,
   "metadata": {},
   "outputs": [],
   "source": [
    "cityTmax = cityLoc.apply(best_tmax, stns=stnLoc, axis=1)\n"
   ]
  },
  {
   "cell_type": "code",
   "execution_count": 79,
   "metadata": {},
   "outputs": [
    {
     "data": {
      "image/png": "[encoded data removed]",
      "text/plain": [
       "<matplotlib.figure.Figure at 0x110d61dd8>"
      ]
     },
     "metadata": {},
     "output_type": "display_data"
    }
   ],
   "source": [
    "\n",
    "plt.plot(cityTmax, cityNnull['density'], 'b.', alpha=0.5)\n",
    "plt.title('Temperature vs Population Density')\n",
    "plt.xlabel('Avg Max Temperature (\\u00b0C)')\n",
    "plt.ylabel('Population Density (people/km\\u00b2)')\n",
    "\n",
    "plt.show()\n",
    "plt.savefig('output.svg')\n"
   ]
  },
  {
   "cell_type": "code",
   "execution_count": null,
   "metadata": {
    "collapsed": true
   },
   "outputs": [],
   "source": []
  }
 ],
 "metadata": {
  "kernelspec": {
   "display_name": "Python 3",
   "language": "python",
   "name": "python3"
  },
  "language_info": {
   "codemirror_mode": {
    "name": "ipython",
    "version": 3
   },
   "file_extension": ".py",
   "mimetype": "text/x-python",
   "name": "python",
   "nbconvert_exporter": "python",
   "pygments_lexer": "ipython3",
   "version": "3.6.0"
  }
 },
 "nbformat": 4,
 "nbformat_minor": 2
}

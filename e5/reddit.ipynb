{
 "cells": [
  {
   "cell_type": "code",
   "execution_count": 175,
   "metadata": {},
   "outputs": [],
   "source": [
    "import pandas as pd\n",
    "import sys\n",
    "import gzip\n",
    "from math import radians, cos, sin, asin, sqrt\n",
    "import matplotlib.pyplot as plt\n",
    "import numpy as np\n",
    "from scipy import stats\n",
    "\n",
    "reddit_counts_json_compressed = 'reddit-counts.json.gz'\n",
    "reddit_counts_json = gzip.open(reddit_counts_json_compressed, 'rt', encoding='utf-8')\n",
    "reddit_counts = pd.read_json(reddit_counts_json, lines=True)"
   ]
  },
  {
   "cell_type": "code",
   "execution_count": 176,
   "metadata": {},
   "outputs": [],
   "source": [
    "filterYears = reddit_counts[\n",
    "    reddit_counts.apply(lambda x:\n",
    "                        (x.date.year==2012 or x.date.year==2013) and\n",
    "                        x.subreddit=='canada'\n",
    "                        , axis=1)]"
   ]
  },
  {
   "cell_type": "code",
   "execution_count": 177,
   "metadata": {},
   "outputs": [],
   "source": [
    "weekends= filterYears[filterYears.date.apply(lambda x: x.weekday() >= 5)]\n",
    "weekdays= filterYears[filterYears.date.apply(lambda x: x.weekday() < 5)]"
   ]
  },
  {
   "cell_type": "code",
   "execution_count": 192,
   "metadata": {},
   "outputs": [
    {
     "data": {
      "text/plain": [
       "1.3005502847207912e-58"
      ]
     },
     "execution_count": 192,
     "metadata": {},
     "output_type": "execute_result"
    }
   ],
   "source": [
    "ttest = stats.ttest_ind(weekends['comment_count'], weekdays['comment_count'])\n",
    "ttest.pvalue"
   ]
  },
  {
   "cell_type": "code",
   "execution_count": 179,
   "metadata": {},
   "outputs": [
    {
     "name": "stdout",
     "output_type": "stream",
     "text": [
      "0.00152091968596\n",
      "1.00911372517e-07\n"
     ]
    }
   ],
   "source": [
    "print(stats.normaltest(weekends['comment_count']).pvalue)\n",
    "print(stats.normaltest(weekdays['comment_count']).pvalue)"
   ]
  },
  {
   "cell_type": "code",
   "execution_count": 180,
   "metadata": {},
   "outputs": [
    {
     "name": "stdout",
     "output_type": "stream",
     "text": [
      "0.043787409892\n"
     ]
    }
   ],
   "source": [
    "print(stats.levene(weekends['comment_count'], weekdays['comment_count']).pvalue)"
   ]
  },
  {
   "cell_type": "code",
   "execution_count": 181,
   "metadata": {},
   "outputs": [],
   "source": [
    "# plt.hist(weekends['comment_count'])\n",
    "# plt.show()\n",
    "# plt.hist(weekdays['comment_count'])\n",
    "# plt.show()"
   ]
  },
  {
   "cell_type": "code",
   "execution_count": 182,
   "metadata": {},
   "outputs": [
    {
     "name": "stdout",
     "output_type": "stream",
     "text": [
      "0.107605628947\n",
      "0.0368722161337\n",
      "0.556054429752\n"
     ]
    }
   ],
   "source": [
    "nuweekends = np.sqrt(weekends['comment_count'])\n",
    "print(stats.normaltest(nuweekends).pvalue)\n",
    "nuweekdays = np.sqrt(weekdays['comment_count'])\n",
    "print(stats.normaltest(nuweekdays).pvalue)\n",
    "print(stats.levene(nuweekends, nuweekdays).pvalue)"
   ]
  },
  {
   "cell_type": "code",
   "execution_count": 183,
   "metadata": {},
   "outputs": [
    {
     "name": "stdout",
     "output_type": "stream",
     "text": [
      "2.99119556868e-11\n",
      "2.77982430056e-29\n",
      "7.39143472747e-08\n"
     ]
    }
   ],
   "source": [
    "sqweekends = weekends['comment_count']**2\n",
    "print(stats.normaltest(sqweekends).pvalue)\n",
    "sqweekdays = weekdays['comment_count']**2\n",
    "print(stats.normaltest(sqweekdays).pvalue)\n",
    "print(stats.levene(sqweekends, sqweekdays).pvalue)"
   ]
  },
  {
   "cell_type": "code",
   "execution_count": 184,
   "metadata": {},
   "outputs": [
    {
     "name": "stdout",
     "output_type": "stream",
     "text": [
      "0.172809755643\n"
     ]
    },
    {
     "name": "stderr",
     "output_type": "stream",
     "text": [
      "/Users/kai/anaconda/lib/python3.6/site-packages/ipykernel/__main__.py:1: SettingWithCopyWarning: \n",
      "A value is trying to be set on a copy of a slice from a DataFrame.\n",
      "Try using .loc[row_indexer,col_indexer] = value instead\n",
      "\n",
      "See the caveats in the documentation: http://pandas.pydata.org/pandas-docs/stable/indexing.html#indexing-view-versus-copy\n",
      "  if __name__ == '__main__':\n",
      "/Users/kai/anaconda/lib/python3.6/site-packages/ipykernel/__main__.py:2: SettingWithCopyWarning: \n",
      "A value is trying to be set on a copy of a slice from a DataFrame.\n",
      "Try using .loc[row_indexer,col_indexer] = value instead\n",
      "\n",
      "See the caveats in the documentation: http://pandas.pydata.org/pandas-docs/stable/indexing.html#indexing-view-versus-copy\n",
      "  from ipykernel import kernelapp as app\n"
     ]
    }
   ],
   "source": [
    "weekends['year']= weekends.apply(lambda x: x.date.year, axis=1)\n",
    "weekends['weekofyear']= weekends.apply(lambda x: x.date.weekofyear, axis=1)\n",
    "weekendsMean = weekends.groupby(['year', 'weekofyear']).mean()\n",
    "print(stats.normaltest(weekendsMean['comment_count']).pvalue)\n"
   ]
  },
  {
   "cell_type": "code",
   "execution_count": 185,
   "metadata": {},
   "outputs": [
    {
     "name": "stdout",
     "output_type": "stream",
     "text": [
      "0.327996845451\n"
     ]
    },
    {
     "name": "stderr",
     "output_type": "stream",
     "text": [
      "/Users/kai/anaconda/lib/python3.6/site-packages/ipykernel/__main__.py:1: SettingWithCopyWarning: \n",
      "A value is trying to be set on a copy of a slice from a DataFrame.\n",
      "Try using .loc[row_indexer,col_indexer] = value instead\n",
      "\n",
      "See the caveats in the documentation: http://pandas.pydata.org/pandas-docs/stable/indexing.html#indexing-view-versus-copy\n",
      "  if __name__ == '__main__':\n",
      "/Users/kai/anaconda/lib/python3.6/site-packages/ipykernel/__main__.py:2: SettingWithCopyWarning: \n",
      "A value is trying to be set on a copy of a slice from a DataFrame.\n",
      "Try using .loc[row_indexer,col_indexer] = value instead\n",
      "\n",
      "See the caveats in the documentation: http://pandas.pydata.org/pandas-docs/stable/indexing.html#indexing-view-versus-copy\n",
      "  from ipykernel import kernelapp as app\n"
     ]
    }
   ],
   "source": [
    "weekdays['year']= weekdays.apply(lambda x: x.date.year, axis=1)\n",
    "weekdays['weekofyear']= weekdays.apply(lambda x: x.date.weekofyear, axis=1)\n",
    "weekdaysMean = weekdays.groupby(['year', 'weekofyear']).mean()\n",
    "print(stats.normaltest(weekdaysMean['comment_count']).pvalue)\n"
   ]
  },
  {
   "cell_type": "code",
   "execution_count": 186,
   "metadata": {},
   "outputs": [
    {
     "name": "stdout",
     "output_type": "stream",
     "text": [
      "0.201108951873\n"
     ]
    }
   ],
   "source": [
    "print(stats.levene(weekdaysMean['comment_count'], weekendsMean['comment_count']).pvalue)"
   ]
  },
  {
   "cell_type": "code",
   "execution_count": 188,
   "metadata": {},
   "outputs": [
    {
     "name": "stdout",
     "output_type": "stream",
     "text": [
      "Ttest_indResult(statistic=-14.841048220894072, pvalue=2.2808975965687838e-34)\n",
      "Ttest_indResult(statistic=-17.704319741792471, pvalue=1.3005502847207912e-58)\n"
     ]
    }
   ],
   "source": [
    "ttestmean = stats.ttest_ind(weekendsMean['comment_count'], weekdaysMean['comment_count'])\n",
    "print(ttestmean)\n",
    "print(ttest)\n"
   ]
  },
  {
   "cell_type": "code",
   "execution_count": 190,
   "metadata": {},
   "outputs": [
    {
     "data": {
      "text/plain": [
       "MannwhitneyuResult(statistic=15099.0, pvalue=4.3122266173669665e-53)"
      ]
     },
     "execution_count": 190,
     "metadata": {},
     "output_type": "execute_result"
    }
   ],
   "source": [
    "utest = stats.mannwhitneyu(weekends['comment_count'], weekdays['comment_count'])\n",
    "utest"
   ]
  },
  {
   "cell_type": "code",
   "execution_count": null,
   "metadata": {
    "collapsed": true
   },
   "outputs": [],
   "source": []
  }
 ],
 "metadata": {
  "kernelspec": {
   "display_name": "Python 3",
   "language": "python",
   "name": "python3"
  },
  "language_info": {
   "codemirror_mode": {
    "name": "ipython",
    "version": 3
   },
   "file_extension": ".py",
   "mimetype": "text/x-python",
   "name": "python",
   "nbconvert_exporter": "python",
   "pygments_lexer": "ipython3",
   "version": "3.6.0"
  }
 },
 "nbformat": 4,
 "nbformat_minor": 2
}

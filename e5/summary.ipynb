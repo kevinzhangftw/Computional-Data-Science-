{
 "cells": [
  {
   "cell_type": "code",
   "execution_count": 2,
   "metadata": {
    "collapsed": true
   },
   "outputs": [],
   "source": [
    "import pandas as pd\n",
    "import numpy as np\n",
    "import scipy\n",
    "import matplotlib.pyplot as plt\n",
    "\n",
    "d1 = pd.read_csv('data-1.csv')\n",
    "d2 = pd.read_csv('data-2.csv')\n",
    "d3 = pd.read_csv('data-3.csv')\n",
    "d4 = pd.read_csv('data-4.csv')\n",
    "d5 = pd.read_csv('data-5.csv')\n",
    "d6 = pd.read_csv('data-6.csv')"
   ]
  },
  {
   "cell_type": "code",
   "execution_count": 3,
   "metadata": {
    "collapsed": true
   },
   "outputs": [],
   "source": [
    "xmean1 = np.mean(d1['x'].values)\n",
    "ymean1 = np.mean(d1['y'].values)\n",
    "xmean2 = np.mean(d2['x'].values)\n",
    "ymean2 = np.mean(d2['y'].values)\n",
    "xmean3 = np.mean(d3['x'].values)\n",
    "ymean3 = np.mean(d3['y'].values)\n",
    "xmean4 = np.mean(d4['x'].values)\n",
    "ymean4 = np.mean(d4['y'].values)\n",
    "xmean5 = np.mean(d5['x'].values)\n",
    "ymean5 = np.mean(d5['y'].values)\n",
    "xmean6 = np.mean(d6['x'].values)\n",
    "ymean6 = np.mean(d6['y'].values)\n"
   ]
  },
  {
   "cell_type": "code",
   "execution_count": 4,
   "metadata": {
    "collapsed": true
   },
   "outputs": [],
   "source": [
    "xstd1 = np.std(d1['x'].values)\n",
    "ystd1 = np.std(d1['y'].values)\n",
    "xstd2 = np.std(d2['x'].values)\n",
    "ystd2 = np.std(d2['y'].values)\n",
    "xstd3 = np.std(d3['x'].values)\n",
    "ystd3 = np.std(d3['y'].values)\n",
    "xstd4 = np.std(d4['x'].values)\n",
    "ystd4 = np.std(d4['y'].values)\n",
    "xstd5 = np.std(d5['x'].values)\n",
    "ystd5 = np.std(d5['y'].values)\n",
    "xstd6 = np.std(d6['x'].values)\n",
    "ystd6 = np.std(d6['y'].values)\n"
   ]
  },
  {
   "cell_type": "code",
   "execution_count": 5,
   "metadata": {
    "collapsed": true
   },
   "outputs": [],
   "source": [
    "range1 = np.ptp(d1.values, axis=0)\n",
    "range2 = np.ptp(d2.values, axis=0)\n",
    "range3 = np.ptp(d3.values, axis=0)\n",
    "range4 = np.ptp(d4.values, axis=0)\n",
    "range5 = np.ptp(d5.values, axis=0)\n",
    "range6 = np.ptp(d6.values, axis=0)"
   ]
  },
  {
   "cell_type": "code",
   "execution_count": 6,
   "metadata": {
    "collapsed": true
   },
   "outputs": [],
   "source": [
    "r1 = np.corrcoef([d1['x'].values, d1['y'].values])[1,0]\n",
    "r2 = np.corrcoef([d2['x'].values, d2['y'].values])[1,0]\n",
    "r3 = np.corrcoef([d3['x'].values, d3['y'].values])[1,0]\n",
    "r4 = np.corrcoef([d4['x'].values, d4['y'].values])[1,0]\n",
    "r5 = np.corrcoef([d5['x'].values, d5['y'].values])[1,0]\n",
    "r6 = np.corrcoef([d6['x'].values, d6['y'].values])[1,0]\n"
   ]
  },
  {
   "cell_type": "code",
   "execution_count": 7,
   "metadata": {},
   "outputs": [
    {
     "name": "stdout",
     "output_type": "stream",
     "text": [
      "data1:\n",
      " mean: 8.71769618641 12.5228740347 \n",
      "std 12.0945869366 6.60668077037 \n",
      "range [ 57.87293328  29.94924044] \n",
      "corrcoef 0.950325695438\n"
     ]
    }
   ],
   "source": [
    "print('data1:\\n mean:',xmean1,ymean1,'\\nstd',xstd1,ystd1,'\\nrange',range1,'\\ncorrcoef',r1 )\n"
   ]
  },
  {
   "cell_type": "code",
   "execution_count": 8,
   "metadata": {},
   "outputs": [
    {
     "name": "stdout",
     "output_type": "stream",
     "text": [
      "data2:\n",
      " mean: -0.710787126716 -0.74898697645 \n",
      "std 11.4240314279 6.22654979121 \n",
      "range [ 60.91811345  32.76911875] \n",
      "corrcoef 0.955153166575\n"
     ]
    }
   ],
   "source": [
    "print('data2:\\n mean:',xmean2,ymean2,'\\nstd',xstd2,ystd2,'\\nrange',range2,'\\ncorrcoef',r2 )"
   ]
  },
  {
   "cell_type": "code",
   "execution_count": 9,
   "metadata": {},
   "outputs": [
    {
     "name": "stdout",
     "output_type": "stream",
     "text": [
      "data3:\n",
      " mean: 0.96890749042 8.50853523664 \n",
      "std 2.23182882116 1.14738371073 \n",
      "range [ 6.96794925  3.91013653] \n",
      "corrcoef 0.981937264676\n"
     ]
    }
   ],
   "source": [
    "print('data3:\\n mean:',xmean3,ymean3,'\\nstd',xstd3,ystd3,'\\nrange',range3,'\\ncorrcoef',r3 )"
   ]
  },
  {
   "cell_type": "code",
   "execution_count": 10,
   "metadata": {},
   "outputs": [
    {
     "name": "stdout",
     "output_type": "stream",
     "text": [
      "data4:\n",
      " mean: 49.9050861483 18.5538365254 \n",
      "std 28.387554302 16.4756375419 \n",
      "range [ 87.3767   44.56504] \n",
      "corrcoef -0.0811930673549\n"
     ]
    }
   ],
   "source": [
    "print('data4:\\n mean:',xmean4,ymean4,'\\nstd',xstd4,ystd4,'\\nrange',range4,'\\ncorrcoef',r4)"
   ]
  },
  {
   "cell_type": "code",
   "execution_count": 11,
   "metadata": {},
   "outputs": [
    {
     "name": "stdout",
     "output_type": "stream",
     "text": [
      "data5:\n",
      " mean: 49.9099935784 18.5555249377 \n",
      "std 28.3789812848 16.4705590576 \n",
      "range [ 86.71497089  49.87869953] \n",
      "corrcoef -0.0882359898306\n"
     ]
    }
   ],
   "source": [
    "print('data5:\\n mean:',xmean5,ymean5,'\\nstd',xstd5,ystd5,'\\nrange',range5,'\\ncorrcoef',r5)"
   ]
  },
  {
   "cell_type": "code",
   "execution_count": 12,
   "metadata": {},
   "outputs": [
    {
     "name": "stdout",
     "output_type": "stream",
     "text": [
      "data6:\n",
      " mean: 7.21615517961 7.60221502824 \n",
      "std 11.8618413023 11.705412748 \n",
      "range [ 59.73595966  59.03623103] \n",
      "corrcoef 0.935068566209\n"
     ]
    }
   ],
   "source": [
    "print('data6:\\n mean:',xmean6,ymean6,'\\nstd',xstd6,ystd6,'\\nrange',range6,'\\ncorrcoef',r6)"
   ]
  },
  {
   "cell_type": "code",
   "execution_count": 27,
   "metadata": {},
   "outputs": [
    {
     "data": {
      "image/png": "[encoded data removed]",
      "text/plain": [
       "<matplotlib.figure.Figure at 0x11861eb00>"
      ]
     },
     "metadata": {},
     "output_type": "display_data"
    }
   ],
   "source": [
    "plt.plot(d1['x'], d1['y'], 'ro')\n",
    "plt.show()\n"
   ]
  },
  {
   "cell_type": "code",
   "execution_count": 28,
   "metadata": {},
   "outputs": [
    {
     "data": {
      "image/png": "[encoded data removed]",
      "text/plain": [
       "<matplotlib.figure.Figure at 0x118890400>"
      ]
     },
     "metadata": {},
     "output_type": "display_data"
    }
   ],
   "source": [
    "plt.plot(d2['x'], d2['y'],'ro')\n",
    "plt.show()"
   ]
  },
  {
   "cell_type": "code",
   "execution_count": 29,
   "metadata": {},
   "outputs": [
    {
     "data": {
      "image/png": "[encoded data removed]",
      "text/plain": [
       "<matplotlib.figure.Figure at 0x118974278>"
      ]
     },
     "metadata": {},
     "output_type": "display_data"
    }
   ],
   "source": [
    "plt.plot(d3['x'].values, d3['y'].values, 'ro')\n",
    "plt.show()"
   ]
  },
  {
   "cell_type": "code",
   "execution_count": 30,
   "metadata": {},
   "outputs": [
    {
     "data": {
      "image/png": "[encoded data removed]",
      "text/plain": [
       "<matplotlib.figure.Figure at 0x118a95828>"
      ]
     },
     "metadata": {},
     "output_type": "display_data"
    }
   ],
   "source": [
    "plt.plot(d4['x'].values, d4['y'].values, 'ro')\n",
    "plt.show()"
   ]
  },
  {
   "cell_type": "code",
   "execution_count": 31,
   "metadata": {},
   "outputs": [
    {
     "data": {
      "image/png": "[encoded data removed]",
      "text/plain": [
       "<matplotlib.figure.Figure at 0x118b73390>"
      ]
     },
     "metadata": {},
     "output_type": "display_data"
    }
   ],
   "source": [
    "plt.plot(d5['x'].values, d5['y'].values, 'ro')\n",
    "plt.show()"
   ]
  },
  {
   "cell_type": "code",
   "execution_count": 32,
   "metadata": {},
   "outputs": [
    {
     "data": {
      "image/png": "[encoded data removed]",
      "text/plain": [
       "<matplotlib.figure.Figure at 0x118b5ccf8>"
      ]
     },
     "metadata": {},
     "output_type": "display_data"
    }
   ],
   "source": [
    "plt.plot(d6['x'].values, d6['y'].values, 'ro')\n",
    "plt.show()"
   ]
  },
  {
   "cell_type": "code",
   "execution_count": null,
   "metadata": {
    "collapsed": true
   },
   "outputs": [],
   "source": []
  }
 ],
 "metadata": {
  "kernelspec": {
   "display_name": "Python 3",
   "language": "python",
   "name": "python3"
  },
  "language_info": {
   "codemirror_mode": {
    "name": "ipython",
    "version": 3
   },
   "file_extension": ".py",
   "mimetype": "text/x-python",
   "name": "python",
   "nbconvert_exporter": "python",
   "pygments_lexer": "ipython3",
   "version": "3.6.0"
  }
 },
 "nbformat": 4,
 "nbformat_minor": 2
}
